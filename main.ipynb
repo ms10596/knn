{
 "cells": [
  {
   "cell_type": "code",
   "execution_count": 1,
   "metadata": {
    "collapsed": true
   },
   "outputs": [],
   "source": [
    "import numpy as np\n",
    "\n",
    "\n",
    "class KNN:\n",
    "    def __init__(self, x_train, y_train):\n",
    "        self.x_train = x_train\n",
    "        self.y_train = y_train\n",
    "        self.k = 1\n",
    "\n",
    "    def predict(self, x_test):\n",
    "        def euclidean(b):\n",
    "            return np.sum(np.sqrt(np.power(x_test - b[0], 2)))\n",
    "\n",
    "        sorted_x_train, sorted_y_train = zip(*sorted(zip(self.x_train, self.y_train), key=euclidean))\n",
    "        chosen_k = sorted_y_train[0:self.k]\n",
    "        return max(chosen_k, key=chosen_k.count)\n",
    "\n",
    "    def accuracy(self, x_test, y_test, k):\n",
    "        self.k = k\n",
    "        y_hat = list(map(self.predict, x_test))\n",
    "        true_no = np.count_nonzero(y_test == y_hat)\n",
    "        return true_no\n"
   ]
  },
  {
   "cell_type": "code",
   "execution_count": 2,
   "metadata": {},
   "outputs": [],
   "source": [
    "import pandas as pd\n",
    "import numpy as np\n",
    "\n",
    "\n",
    "def read_data(file_name):\n",
    "    data = pd.read_csv(file_name)\n",
    "    x = np.array(\n",
    "        [data['x0'], data['x1'], data['x2'], data['x3'], data['x4'], data['x5'],\n",
    "         data['x6'], data['x7']]).T\n",
    "    y = np.array(data['y'])\n",
    "    return x, y"
   ]
  },
  {
   "cell_type": "code",
   "execution_count": 3,
   "metadata": {},
   "outputs": [
    {
     "name": "stdout",
     "output_type": "stream",
     "text": [
      "k value: 1\n"
     ]
    },
    {
     "name": "stdout",
     "output_type": "stream",
     "text": [
      "Number of correctly classified instances: 227\nNumber of instances: 445\nAccuracy: 0.5101123595505618\n\n\n\nk value: 2\n"
     ]
    },
    {
     "name": "stdout",
     "output_type": "stream",
     "text": [
      "Number of correctly classified instances: 227\nNumber of instances: 445\nAccuracy: 0.5101123595505618\n\n\n\nk value: 3\n"
     ]
    },
    {
     "name": "stdout",
     "output_type": "stream",
     "text": [
      "Number of correctly classified instances: 233\nNumber of instances: 445\nAccuracy: 0.5235955056179775\n\n\n\nk value: 4\n"
     ]
    },
    {
     "name": "stdout",
     "output_type": "stream",
     "text": [
      "Number of correctly classified instances: 251\nNumber of instances: 445\nAccuracy: 0.5640449438202247\n\n\n\nk value: 5\n"
     ]
    },
    {
     "name": "stdout",
     "output_type": "stream",
     "text": [
      "Number of correctly classified instances: 250\nNumber of instances: 445\nAccuracy: 0.5617977528089888\n\n\n\nk value: 6\n"
     ]
    },
    {
     "name": "stdout",
     "output_type": "stream",
     "text": [
      "Number of correctly classified instances: 256\nNumber of instances: 445\nAccuracy: 0.5752808988764045\n\n\n\nk value: 7\n"
     ]
    },
    {
     "name": "stdout",
     "output_type": "stream",
     "text": [
      "Number of correctly classified instances: 247\nNumber of instances: 445\nAccuracy: 0.5550561797752809\n\n\n\nk value: 8\n"
     ]
    },
    {
     "name": "stdout",
     "output_type": "stream",
     "text": [
      "Number of correctly classified instances: 254\nNumber of instances: 445\nAccuracy: 0.5707865168539326\n\n\n\nk value: 9\n"
     ]
    },
    {
     "name": "stdout",
     "output_type": "stream",
     "text": [
      "Number of correctly classified instances: 249\nNumber of instances: 445\nAccuracy: 0.5595505617977528\n\n\n\n"
     ]
    }
   ],
   "source": [
    "import matplotlib.pyplot as plt\n",
    "if __name__ == '__main__':\n",
    "    x_train, y_train = read_data(\"TrainData.txt\")\n",
    "    x_test, y_test = read_data(\"TestData.txt\")\n",
    "\n",
    "    clf = KNN(x_train, y_train)\n",
    "    accuracies = []\n",
    "    for i in range(1, 10):\n",
    "        print(\"k value:\", i)\n",
    "        correctly_classified = clf.accuracy(x_test, y_test, i)\n",
    "        accuracy = correctly_classified / len(y_test)\n",
    "        accuracies.append(accuracy)\n",
    "        print(\"Number of correctly classified instances:\", correctly_classified)\n",
    "        print(\"Number of instances:\", len(y_test))\n",
    "        print(\"Accuracy:\", accuracy)\n",
    "        print(\"\\n\\n\")\n"
   ]
  },
  {
   "cell_type": "code",
   "execution_count": 4,
   "metadata": {},
   "outputs": [],
   "source": [
    "plt.plot(accuracies)\n",
    "plt.show()"
   ]
  },
  {
   "cell_type": "code",
   "execution_count": null,
   "metadata": {},
   "outputs": [],
   "source": []
  }
 ],
 "metadata": {
  "kernelspec": {
   "display_name": "Python 2",
   "language": "python",
   "name": "python2"
  },
  "language_info": {
   "codemirror_mode": {
    "name": "ipython",
    "version": 2
   },
   "file_extension": ".py",
   "mimetype": "text/x-python",
   "name": "python",
   "nbconvert_exporter": "python",
   "pygments_lexer": "ipython2",
   "version": "2.7.6"
  }
 },
 "nbformat": 4,
 "nbformat_minor": 0
}
